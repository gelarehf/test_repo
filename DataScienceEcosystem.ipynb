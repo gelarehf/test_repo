{
 "cells": [
  {
   "cell_type": "markdown",
   "id": "f382319b",
   "metadata": {},
   "source": [
    "# Data Science Tools and Ecosystem "
   ]
  },
  {
   "cell_type": "markdown",
   "id": "7c581428",
   "metadata": {},
   "source": [
    "In this notebook, Data Science Tools and Ecosystems are sumarized.\n"
   ]
  },
  {
   "cell_type": "markdown",
   "id": "8f697fe4",
   "metadata": {},
   "source": [
    "Some of the popular languages that Data Scientists use are:\n",
    "1. Python\n",
    "2. R\n",
    "3. SQL\n",
    "4. Julia"
   ]
  },
  {
   "cell_type": "markdown",
   "id": "47e2858a",
   "metadata": {},
   "source": [
    "Some of the commonly used libraries used by Data Scientists include:\n",
    "1. Panda\n",
    "2. Numpy\n",
    "3. ggplot (R)"
   ]
  },
  {
   "cell_type": "markdown",
   "id": "b7ae035a",
   "metadata": {},
   "source": [
    " three development environment open source tools used in data science:\n",
    "|Language| Tool\n",
    "|--------|----------------------|\n",
    "|Python  | Jupyter Notebook|\n",
    "|R       | RStudio           |\n",
    "|Various Languages   | VS Code |"
   ]
  },
  {
   "cell_type": "markdown",
   "id": "c9e244c3",
   "metadata": {},
   "source": [
    "Below are a few examples of evaluating arithmetic expressions in Python.\n",
    "\n"
   ]
  },
  {
   "cell_type": "code",
   "execution_count": 17,
   "id": "537a4b67",
   "metadata": {},
   "outputs": [
    {
     "data": {
      "text/plain": [
       "17"
      ]
     },
     "execution_count": 17,
     "metadata": {},
     "output_type": "execute_result"
    }
   ],
   "source": [
    "#This a simple arithmetic expression to mutiply then add integers\n",
    "(3*4)+5"
   ]
  },
  {
   "cell_type": "code",
   "execution_count": 18,
   "id": "861a08b3",
   "metadata": {},
   "outputs": [
    {
     "data": {
      "text/plain": [
       "3.3333333333333335"
      ]
     },
     "execution_count": 18,
     "metadata": {},
     "output_type": "execute_result"
    }
   ],
   "source": [
    "#This will convert 200 minutes to hours by diving by 60\n",
    "200/60"
   ]
  },
  {
   "cell_type": "markdown",
   "id": "5761f405",
   "metadata": {},
   "source": [
    "## Objectives:\n",
    "- list popular languages in data science\n",
    "- list most used data science tools\n",
    "- list open source environments used in data science"
   ]
  },
  {
   "cell_type": "markdown",
   "id": "f692a9b7",
   "metadata": {},
   "source": [
    "## Author:\n",
    "Gelareh Farahi\n"
   ]
  }
 ],
 "metadata": {
  "kernelspec": {
   "display_name": "Python3 preferred",
   "language": "python",
   "name": "python3"
  },
  "language_info": {
   "codemirror_mode": {
    "name": "ipython",
    "version": 3
   },
   "file_extension": ".py",
   "mimetype": "text/x-python",
   "name": "python",
   "nbconvert_exporter": "python",
   "pygments_lexer": "ipython3",
   "version": "3.12.4"
  }
 },
 "nbformat": 4,
 "nbformat_minor": 5
}
